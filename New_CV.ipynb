{
 "cells": [
  {
   "cell_type": "code",
   "execution_count": 329,
   "metadata": {},
   "outputs": [],
   "source": [
    "import cv2\n",
    "import numpy as np\n",
    "import pcl\n",
    "import json\n",
    "import freenect\n",
    "import frame_convert2\n",
    "import matplotlib.pylab as plt\n",
    "import matplotlib\n",
    "\n",
    "import redis\n",
    "import frame_convert2\n",
    "import importlib\n",
    "import time\n",
    "from scipy.optimize import curve_fit"
   ]
  },
  {
   "cell_type": "code",
   "execution_count": 332,
   "metadata": {},
   "outputs": [],
   "source": [
    "r = redis.Redis(charset='utf-8', decode_responses=True)\n",
    "simulation = False\n",
    "if simulation:\n",
    "    JOINT_ANGLES_KEY = \"sai2::cs225a::panda_robot::sensors::q\"\n",
    "    JOINT_VELOCITIES_KEY = \"sai2::cs225a::panda_robot::sensors::dq\"\n",
    "    JOINT_TORQUES_COMMANDED_KEY = \"sai2::cs225a::panda_robot::actuators::fgc\"\n",
    "    # \n",
    "    CURRENT_POSITION_KEY = \"sai2::cs225a::panda_robot::sensors::current_position\"\n",
    "    TARGET_POSITION_KEY = \"sai2::cs225a::panda_robot::control::target_position\"\n",
    "else:    \n",
    "    JOINT_TORQUES_COMMANDED_KEY = \"sai2::FrankaPanda::actuators::fgc\"\n",
    "    JOINT_ANGLES_KEY  = \"sai2::FrankaPanda::sensors::q\"\n",
    "    JOINT_VELOCITIES_KEY = \"sai2::FrankaPanda::sensors::dq\"\n",
    "    JOINT_TORQUES_SENSED_KEY = \"sai2::FrankaPanda::sensors::torques\"\n",
    "    MASSMATRIX_KEY = \"sai2::FrankaPanda::sensors::model::massmatrix\"\n",
    "    CORIOLIS_KEY = \"sai2::FrankaPanda::sensors::model::coriolis\"\n",
    "    ROBOT_GRAVITY_KEY = \"sai2::FrankaPanda::sensors::model::robot_gravity\"\n",
    "    # \n",
    "    CURRENT_POSITION_KEY = \"sai2::FrankaPanda::sensors::current_position\"\n",
    "    TARGET_POSITION_KEY = \"sai2::FrankaPanda::control::target_position\"\n",
    "    CALI_DONE_KEY = \"sai2::FrankaPanda::control::cali_done\"\n",
    "\n",
    "# Conversion between Redis key-value format to numpy arrays\n",
    " \n",
    "def str_to_vec(s):\n",
    "    return np.array([float(x) for x in s[1:-1].split(',')])\n",
    "\n",
    "def key_to_vec(r, key_name):\n",
    "    return str_to_vec(r.get(key_name))\n",
    "\n",
    "def vec_to_str(v):\n",
    "    return '[' + ','.join(x for x in v) + ']'"
   ]
  },
  {
   "cell_type": "code",
   "execution_count": 2,
   "metadata": {},
   "outputs": [],
   "source": [
    "fx, fy = 529.215, 525.5639\n",
    "cx, cy = 328.942, 267.480"
   ]
  },
  {
   "cell_type": "code",
   "execution_count": 417,
   "metadata": {},
   "outputs": [],
   "source": [
    "# Get raw depth and RGB image using libfreenect driver\n",
    "\n",
    "def get_depth():\n",
    "    \"\"\"\n",
    "    Get depth image in millimeters (valued 0-10000)\n",
    "    \"\"\"\n",
    "    value = freenect.sync_get_depth(format=freenect.DEPTH_REGISTERED)[0]\n",
    "    return value\n",
    "\n",
    "def get_video():\n",
    "    \"\"\"\n",
    "    Get BGR frames (valued 0-255)\n",
    "    \"\"\"\n",
    "    return frame_convert2.video_cv(freenect.sync_get_video()[0])\n",
    "\n",
    "reference_color = np.array([122, 120, 35]) / 255.\n",
    "hue = matplotlib.colors.rgb_to_hsv(reference_color)[0]\n",
    "    \n",
    "def find_color_pixel_uv(rgb):\n",
    "    hsv = cv2.cvtColor(rgb, cv2.COLOR_BGR2HSV) / 255.\n",
    "    hue_hsv, sat_hsv, bright_hsv = hsv[:, :, 0], hsv[:, :, 1], hsv[:, :, 2]\n",
    "    \n",
    "    height, width = hsv.shape[0], hsv.shape[1]\n",
    "    grid = np.zeros((height, width))    \n",
    "    grid[(hue_hsv < (hue + 25 / 360.)) & (hue_hsv > (hue - 25 / 360.)) & (sat_hsv > 0.3) & (bright_hsv > 0.3)] = 1\n",
    "    return np.argwhere(grid > 0)\n",
    "\n",
    "def to_xyz(rgb, depth):\n",
    "    z = depth[rgb[:, 0], rgb[:, 1]]\n",
    "    x = ((rgb[:, 0] - cx) * z) / fx\n",
    "    y = ((rgb[:, 1] - cy) * z) / fy\n",
    "    x, y, z = x.reshape(-1, 1), y.reshape(-1, 1), z.reshape(-1, 1)\n",
    "    xyz = np.hstack([x, y, z])\n",
    "    xyz = xyz.astype(np.float32)\n",
    "    return xyz[xyz[:, 2] > 0]\n",
    "\n",
    "\n",
    "def filter_outlier(pc):\n",
    "    n_pc = len(pc)\n",
    "    cloud = pcl.PointCloud()\n",
    "    cloud_filtered = pcl.PointCloud()\n",
    "    cloud.from_array(pc)\n",
    "\n",
    "    kdtree = cloud.make_kdtree_flann()\n",
    "    [ind, sqdist] = kdtree.nearest_k_search_for_cloud(cloud, int(n_pc / 10))    \n",
    "    valid_mask = sqdist.max(axis=-1) < 1e-2\n",
    "    pc_filtered = pc[valid_mask]\n",
    "    return pc_filtered\n",
    "\n",
    "\n",
    "def find_ball():\n",
    "    image = get_video()\n",
    "    depth = get_depth() / 1000\n",
    "    \n",
    "    color_uv = find_color_pixel_uv(image)\n",
    "    pc_color = to_xyz(color_uv, depth)\n",
    "\n",
    "    pc_filtered = filter_outlier(pc_color)\n",
    "    \n",
    "    if len(pc_filtered) == 0:\n",
    "        raise Exception(\"ball not found\")\n",
    "    # ball_center = np.mean(pc_filtered, axis=0)\n",
    "    r, cx, cy, cz = sphereFit(pc_filtered[:, 0], pc_filtered[:, 1], pc_filtered[:, 2])\n",
    "    return r[0], cx[0], cy[0], cz[0]"
   ]
  },
  {
   "cell_type": "code",
   "execution_count": 472,
   "metadata": {},
   "outputs": [
    {
     "data": {
      "text/plain": [
       "(0.023842133696458604,\n",
       " -0.12437976536049923,\n",
       " 0.42208949529446693,\n",
       " 2.1410549996398167)"
      ]
     },
     "execution_count": 472,
     "metadata": {},
     "output_type": "execute_result"
    }
   ],
   "source": [
    "find_ball()"
   ]
  },
  {
   "cell_type": "code",
   "execution_count": 465,
   "metadata": {},
   "outputs": [],
   "source": [
    "def move_robot(target_xyz, velocity_threshold=1e-1, timeout=5.0):\n",
    "    r.set(TARGET_POSITION_KEY, vec_to_str(target_xyz))\n",
    "    start_time = time.time()\n",
    "    \n",
    "    while np.norm(key_to_vec(JOINT_VELOCITIES_KEY)) < velocity_threshold:\n",
    "        curr_time = time.time()\n",
    "        if curr_time - start_time > timeout:\n",
    "            raise Exception(\"control timeout!\")\n",
    "\n",
    "    return key_to_vec(CURRENT_POSITION_KEY)"
   ]
  },
  {
   "cell_type": "code",
   "execution_count": 331,
   "metadata": {},
   "outputs": [],
   "source": [
    "target_coords = [[0.35, 0.4, 0.3], [0.35, -0.4, 0.3], [0.45, 0.3, 0.8], [0.45, -0.3, 0.8]]\n",
    "\n",
    "def get_coords(target_coords):\n",
    "    results_camera = []\n",
    "    results_robot  = []\n",
    "    for target_xyz in target_coords:\n",
    "        try:\n",
    "            r_robot = move_robot(target_xyz) # tune params! \n",
    "            _ = input(\"Please press a key...\")\n",
    "            r_camera = find_ball()\n",
    "            results_camera.append(r_camera)\n",
    "            results_robot.append(r_robot)\n",
    "        except Exception as e:\n",
    "            print(\"{} failed!\".format(target_xyz))\n",
    "            print(e)\n",
    "    return results_camera, results_robot"
   ]
  },
  {
   "cell_type": "code",
   "execution_count": 11,
   "metadata": {},
   "outputs": [],
   "source": [
    "def optimize_transformation(xyzs_camera, xyzs_robot):\n",
    "    \"\"\"\n",
    "    args: \n",
    "      xyzs_camera = (N, 3) numpy array, containing points in camera frame\n",
    "      xyzs_robot  = (N, 3) numpy array, containing points in robot frame\n",
    "    returns:\n",
    "      T = [4, 4] including a transformation matrix converting camera frame to robot frame\n",
    "        = [[R(3x3) , t(3x1)],\n",
    "           [0, 0, 0,      1]]\n",
    "    \"\"\"\n",
    "    centroid_frame_camera = np.mean(xyzs_camera, axis=0)\n",
    "    centroid_frame_robot  = np.mean(xyzs_robot, axis=0)\n",
    "    H = (xyzs_camera - centroid_frame_camera).T @ (xyzs_robot - centroid_frame_robot)\n",
    "    U, S, V = np.linalg.svd(H)\n",
    "    R = (U @ V).T\n",
    "    t = centroid_frame_robot - R @ centroid_frame_camera\n",
    "    return np.hstack([np.vstack([R.T, t]), np.array([[0, 0, 0, 1]]).T]).T"
   ]
  },
  {
   "cell_type": "code",
   "execution_count": 375,
   "metadata": {},
   "outputs": [],
   "source": [
    "# https://jekel.me/2015/Least-Squares-Sphere-Fit/\n",
    "def sphereFit(spX,spY,spZ):\n",
    "    #   Assemble the A matrix\n",
    "    spX = np.array(spX)\n",
    "    spY = np.array(spY)\n",
    "    spZ = np.array(spZ)\n",
    "    A = np.zeros((len(spX),4))\n",
    "    A[:,0] = spX*2\n",
    "    A[:,1] = spY*2\n",
    "    A[:,2] = spZ*2\n",
    "    A[:,3] = 1\n",
    "\n",
    "    #   Assemble the f matrix\n",
    "    f = np.zeros((len(spX),1))\n",
    "    f[:,0] = (spX*spX) + (spY*spY) + (spZ*spZ)\n",
    "    C, residules, rank, singval = np.linalg.lstsq(A, f, rcond=None)\n",
    "\n",
    "    #   solve for the radius\n",
    "    t = (C[0]*C[0])+(C[1]*C[1])+(C[2]*C[2])+C[3]\n",
    "    radius = np.sqrt(t)\n",
    "\n",
    "    return radius, C[0], C[1], C[2]"
   ]
  },
  {
   "cell_type": "markdown",
   "metadata": {},
   "source": [
    "# Check Transformation Matrix Quality"
   ]
  },
  {
   "cell_type": "code",
   "execution_count": 33,
   "metadata": {},
   "outputs": [],
   "source": [
    "import numpy as np\n",
    "from scipy.linalg import lstsq\n",
    "def check_transformation_matrix(optimize_transformation, num_points, point_scale=5, gaussian_scale=0.3):\n",
    "    T_1_to_2 = np.array([\n",
    "        [0.07143, -0.6589, 0.7488, -3], \n",
    "        [0.9446, 0.2857, 0.1613, 5],\n",
    "        [-0.3202, 0.6958, 0.6429, 7], \n",
    "        [0, 0, 0, 1]\n",
    "    ])\n",
    "    \n",
    "    points_frame_1 = np.random.rand(num_points, 3) * point_scale\n",
    "    points_frame_2 = np.pad(points_frame_1, [(0, 0), (0, 1)], 'constant', constant_values=1) @ T_1_to_2.T\n",
    "    noise = np.random.normal(loc=0.0, scale=gaussian_scale, size=points_frame_2.shape)\n",
    "    noise[:, 3] = 0\n",
    "    points_frame_2_noise = points_frame_2 + noise\n",
    "    \n",
    "    points_frame_2_ = points_frame_2[:, :3]\n",
    "    points_frame_2_noise_ = points_frame_2_noise[:, :3]\n",
    "    \n",
    "    T_calculated = optimize_transformation(points_frame_1, points_frame_2_noise_)\n",
    "    points_frame_2_est = np.pad(points_frame_1, [(0, 0), (0, 1)], 'constant', constant_values=1) @ T_calculated.T\n",
    "    points_frame_2_est = points_frame_2_est[:, :3]\n",
    "    \n",
    "    print(f'Original T: \\n{T_1_to_2}')\n",
    "    print(f'Calculated T: \\n{T_calculated}')\n",
    "    print(f'|T[Orig] - T[Calc]| = {np.linalg.norm(T_calculated - T_1_to_2)}\\n')\n",
    "    print(f'Average(T[calc].P - T[orig].P) = {np.mean(points_frame_2_est - points_frame_2_, axis=0)}')"
   ]
  },
  {
   "cell_type": "markdown",
   "metadata": {},
   "source": [
    "## Usage"
   ]
  },
  {
   "cell_type": "code",
   "execution_count": 39,
   "metadata": {},
   "outputs": [
    {
     "name": "stdout",
     "output_type": "stream",
     "text": [
      "Original T: \n",
      "[[ 0.07143 -0.6589   0.7488  -3.     ]\n",
      " [ 0.9446   0.2857   0.1613   5.     ]\n",
      " [-0.3202   0.6958   0.6429   7.     ]\n",
      " [ 0.       0.       0.       1.     ]]\n",
      "Calculated T: \n",
      "[[ 0.067582   -0.66036386  0.74789855 -3.01267683]\n",
      " [ 0.9432136   0.28664982  0.16786893  4.99561748]\n",
      " [-0.32523956  0.69408317  0.64223655  7.03446348]\n",
      " [ 0.          0.          0.          1.        ]]\n",
      "|T[Orig] - T[Calc]| = 0.03821207557344279\n",
      "\n",
      "Average(T[calc].P - T[orig].P) = [-0.02794619  0.01017478  0.01618916]\n"
     ]
    }
   ],
   "source": [
    "check_transformation_matrix(optimize_transformation, num_points=20, point_scale=5, gaussian_scale=0.1)"
   ]
  },
  {
   "cell_type": "code",
   "execution_count": null,
   "metadata": {},
   "outputs": [],
   "source": []
  }
 ],
 "metadata": {
  "kernelspec": {
   "display_name": "Python 3",
   "language": "python",
   "name": "python3"
  },
  "language_info": {
   "codemirror_mode": {
    "name": "ipython",
    "version": 3
   },
   "file_extension": ".py",
   "mimetype": "text/x-python",
   "name": "python",
   "nbconvert_exporter": "python",
   "pygments_lexer": "ipython3",
   "version": "3.7.1"
  }
 },
 "nbformat": 4,
 "nbformat_minor": 2
}
