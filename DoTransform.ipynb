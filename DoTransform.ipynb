{
 "cells": [
  {
   "cell_type": "code",
   "execution_count": 1,
   "metadata": {},
   "outputs": [],
   "source": [
    "from scipy.linalg import lstsq\n",
    "import numpy as np"
   ]
  },
  {
   "cell_type": "code",
   "execution_count": 3,
   "metadata": {},
   "outputs": [],
   "source": [
    "T_1_to_2 = np.array([\n",
    "    [0.07143, -0.6589, 0.7488, -3], \n",
    "    [0.9446, 0.2857, 0.1613, 5],\n",
    "    [-0.3202, 0.6958, 0.6429, 7], \n",
    "    [0, 0, 0, 1]\n",
    "])"
   ]
  },
  {
   "cell_type": "code",
   "execution_count": 210,
   "metadata": {},
   "outputs": [],
   "source": [
    "points_frame_1 = np.array([\n",
    "    [1, 3, 5], \n",
    "    [2, 4, 3], \n",
    "    [3, 7, 2],\n",
    "    [-2, -1, 0], \n",
    "    [2, 9, 8],\n",
    "    [4, 1, 6], \n",
    "    [1, 2, 2]\n",
    "])\n",
    "# points_frame_1 = np.random.rand(100, 3) * 5"
   ]
  },
  {
   "cell_type": "code",
   "execution_count": 211,
   "metadata": {},
   "outputs": [],
   "source": [
    "points_frame_2 = np.pad(points_frame_1, [(0, 0), (0, 1)], 'constant', constant_values=1) @ T_1_to_2.T\n",
    "noise = np.random.normal(loc=0.0, scale=0.3, size=points_frame_2.shape)\n",
    "noise[:, 3] = 0\n",
    "points_frame_2 += noise"
   ]
  },
  {
   "cell_type": "code",
   "execution_count": 185,
   "metadata": {},
   "outputs": [],
   "source": [
    "M = np.pad(points_frame_1, [(0, 0), (0, 1)], 'constant', constant_values=1)"
   ]
  },
  {
   "cell_type": "code",
   "execution_count": 186,
   "metadata": {},
   "outputs": [
    {
     "data": {
      "text/plain": [
       "array([[ 0.0488828 , -0.65970078,  0.78350535, -3.0106122 ],\n",
       "       [ 0.97694906,  0.30755055,  0.18333153,  4.79231095],\n",
       "       [-0.32811975,  0.68859159,  0.65074587,  7.00164291]])"
      ]
     },
     "execution_count": 186,
     "metadata": {},
     "output_type": "execute_result"
    }
   ],
   "source": [
    "lstsq(M, points_frame_2[:])[0].T[:3]"
   ]
  },
  {
   "cell_type": "code",
   "execution_count": 212,
   "metadata": {},
   "outputs": [],
   "source": [
    "points_frame_2_ = points_frame_2[:, :3]"
   ]
  },
  {
   "cell_type": "code",
   "execution_count": 213,
   "metadata": {},
   "outputs": [],
   "source": [
    "centroid_frame_1 = np.mean(points_frame_1, axis=0)\n",
    "centroid_frame_2 = np.mean(points_frame_2_, axis=0)\n",
    "H = (points_frame_1 - centroid_frame_1).T @ (points_frame_2_ - centroid_frame_2)\n",
    "U, S, V = np.linalg.svd(H)\n",
    "R = (U @ V).T"
   ]
  },
  {
   "cell_type": "code",
   "execution_count": 214,
   "metadata": {},
   "outputs": [],
   "source": [
    "T = centroid_frame_2 - R @ centroid_frame_1"
   ]
  },
  {
   "cell_type": "code",
   "execution_count": 215,
   "metadata": {},
   "outputs": [
    {
     "data": {
      "text/plain": [
       "(array([[ 0.07145326, -0.65892883,  0.74880386],\n",
       "        [ 0.94464884,  0.28570803,  0.16127458],\n",
       "        [-0.32020775,  0.69583311,  0.64287113]]),\n",
       " array([-2.99994793,  4.99998899,  7.00000118]))"
      ]
     },
     "execution_count": 215,
     "metadata": {},
     "output_type": "execute_result"
    }
   ],
   "source": [
    "R, T"
   ]
  },
  {
   "cell_type": "code",
   "execution_count": 249,
   "metadata": {},
   "outputs": [],
   "source": [
    "def optimize_transformation(xyzs_camera, xyzs_robot):\n",
    "    \"\"\"\n",
    "    args: \n",
    "      xyzs_camera = (N, 3) numpy array, containing points in camera frame\n",
    "      xyzs_robot  = (N, 3) numpy array, containing points in robot frame\n",
    "    returns:\n",
    "      T = [4, 4] including a transformation matrix converting camera frame to robot frame\n",
    "        = [[R(3x3) , t(3x1)],\n",
    "           [0, 0, 0,      1]]\n",
    "    \"\"\"\n",
    "    centroid_frame_camera = np.mean(points_frame_1, axis=0)\n",
    "    centroid_frame_robot  = np.mean(points_frame_2_, axis=0)\n",
    "    H = (points_frame_1 - centroid_frame_1).T @ (points_frame_2_ - centroid_frame_2)\n",
    "    U, S, V = np.linalg.svd(H)\n",
    "    R = (U @ V).T\n",
    "    t = centroid_frame_2 - R @ centroid_frame_1\n",
    "    return np.hstack([np.vstack([R.T, t]), np.array([[0, 0, 0, 1]]).T]).T"
   ]
  },
  {
   "cell_type": "code",
   "execution_count": 250,
   "metadata": {},
   "outputs": [
    {
     "data": {
      "text/plain": [
       "array([[ 0.07145326, -0.65892883,  0.74880386, -2.99994793],\n",
       "       [ 0.94464884,  0.28570803,  0.16127458,  4.99998899],\n",
       "       [-0.32020775,  0.69583311,  0.64287113,  7.00000118],\n",
       "       [ 0.        ,  0.        ,  0.        ,  1.        ]])"
      ]
     },
     "execution_count": 250,
     "metadata": {},
     "output_type": "execute_result"
    }
   ],
   "source": [
    "optimize_transformation(points_frame_1, points_frame_2_)"
   ]
  },
  {
   "cell_type": "code",
   "execution_count": 259,
   "metadata": {},
   "outputs": [],
   "source": [
    "def check_transformation_matrix(optimize_transformation, num_points):\n",
    "    T_1_to_2 = np.array([\n",
    "        [0.07143, -0.6589, 0.7488, -3], \n",
    "        [0.9446, 0.2857, 0.1613, 5],\n",
    "        [-0.3202, 0.6958, 0.6429, 7], \n",
    "        [0, 0, 0, 1]\n",
    "    ])\n",
    "    \n",
    "    points_frame_1 = np.random.rand(num_points, 3) * 5\n",
    "    print(points_frame_1)\n",
    "    points_frame_2 = np.pad(points_frame_1, [(0, 0), (0, 1)], 'constant', constant_values=1) @ T_1_to_2.T\n",
    "    noise = np.random.normal(loc=0.0, scale=0.3, size=points_frame_2.shape)\n",
    "    noise[:, 3] = 0\n",
    "    points_frame_2_noise = points_frame_2 + noise\n",
    "    \n",
    "    points_frame_2_ = points_frame_2[:, :3]\n",
    "    points_frame_2_noise_ = points_frame_2_noise[:, :3]\n",
    "    \n",
    "    T_calculated = optimize_transformation(points_frame_1, points_frame_2_noise_)\n",
    "    points_frame_2_est = np.pad(points_frame_1, [(0, 0), (0, 1)], 'constant', constant_values=1) @ T_calculated.T\n",
    "    points_frame_2_est = points_frame_2_est[:, :3]\n",
    "    \n",
    "    print(f'Original T: \\n{T_1_to_2}')\n",
    "    print(f'Calculated T: \\n{T_calculated}')\n",
    "    print(f'|T[Orig] - T[Calc]| = {np.linalg.norm(T_calculated - T_1_to_2)}\\n')\n",
    "    print(f'Average(T[calc].P - T[orig].P) = {np.mean(points_frame_2_est - points_frame_2_, axis=0)}')"
   ]
  },
  {
   "cell_type": "code",
   "execution_count": 260,
   "metadata": {},
   "outputs": [
    {
     "name": "stdout",
     "output_type": "stream",
     "text": [
      "[[3.30241271 2.3838876  2.5101413 ]\n",
      " [4.86175364 2.0720043  4.45137588]]\n",
      "Original T: \n",
      "[[ 0.07143 -0.6589   0.7488  -3.     ]\n",
      " [ 0.9446   0.2857   0.1613   5.     ]\n",
      " [-0.3202   0.6958   0.6429   7.     ]\n",
      " [ 0.       0.       0.       1.     ]]\n",
      "Calculated T: \n",
      "[[ 0.07145326 -0.65892883  0.74880386 -2.99994793]\n",
      " [ 0.94464884  0.28570803  0.16127458  4.99998899]\n",
      " [-0.32020775  0.69583311  0.64287113  7.00000118]\n",
      " [ 0.          0.          0.          1.        ]]\n",
      "|T[Orig] - T[Calc]| = 9.64750369530397e-05\n",
      "\n",
      "Average(T[calc].P - T[orig].P) = [ 9.62194644e-05  1.17762699e-04 -5.71901464e-05]\n"
     ]
    }
   ],
   "source": [
    "check_transformation_matrix(optimize_transformation, 2)"
   ]
  },
  {
   "cell_type": "code",
   "execution_count": null,
   "metadata": {},
   "outputs": [],
   "source": []
  }
 ],
 "metadata": {
  "kernelspec": {
   "display_name": "Python 3",
   "language": "python",
   "name": "python3"
  },
  "language_info": {
   "codemirror_mode": {
    "name": "ipython",
    "version": 3
   },
   "file_extension": ".py",
   "mimetype": "text/x-python",
   "name": "python",
   "nbconvert_exporter": "python",
   "pygments_lexer": "ipython3",
   "version": "3.5.2"
  }
 },
 "nbformat": 4,
 "nbformat_minor": 2
}
