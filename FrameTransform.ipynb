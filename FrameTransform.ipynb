{
 "cells": [
  {
   "cell_type": "code",
   "execution_count": 1,
   "metadata": {},
   "outputs": [],
   "source": [
    "import numpy as np\n",
    "import cv2\n",
    "import redis\n",
    "import freenect\n",
    "import frame_convert2\n",
    "import importlib\n",
    "import matplotlib\n",
    "import pcl\n",
    "import time\n",
    "from scipy.optimize import curve_fit"
   ]
  },
  {
   "cell_type": "code",
   "execution_count": 2,
   "metadata": {},
   "outputs": [],
   "source": [
    "r = redis.Redis(charset='utf-8', decode_responses=True)"
   ]
  },
  {
   "cell_type": "code",
   "execution_count": 3,
   "metadata": {},
   "outputs": [],
   "source": [
    "simulation = False"
   ]
  },
  {
   "cell_type": "code",
   "execution_count": 4,
   "metadata": {},
   "outputs": [],
   "source": [
    "if simulation:\n",
    "    JOINT_ANGLES_KEY = \"sai2::cs225a::panda_robot::sensors::q\"\n",
    "    JOINT_VELOCITIES_KEY = \"sai2::cs225a::panda_robot::sensors::dq\"\n",
    "    JOINT_TORQUES_COMMANDED_KEY = \"sai2::cs225a::panda_robot::actuators::fgc\"\n",
    "    # \n",
    "    CURRENT_POSITION_KEY = \"sai2::cs225a::panda_robot::sensors::current_position\"\n",
    "    TARGET_POSITION_KEY = \"sai2::cs225a::panda_robot::control::target_position\"\n",
    "else:    \n",
    "    JOINT_TORQUES_COMMANDED_KEY = \"sai2::FrankaPanda::actuators::fgc\"\n",
    "    JOINT_ANGLES_KEY  = \"sai2::FrankaPanda::sensors::q\"\n",
    "    JOINT_VELOCITIES_KEY = \"sai2::FrankaPanda::sensors::dq\"\n",
    "    JOINT_TORQUES_SENSED_KEY = \"sai2::FrankaPanda::sensors::torques\"\n",
    "    MASSMATRIX_KEY = \"sai2::FrankaPanda::sensors::model::massmatrix\"\n",
    "    CORIOLIS_KEY = \"sai2::FrankaPanda::sensors::model::coriolis\"\n",
    "    ROBOT_GRAVITY_KEY = \"sai2::FrankaPanda::sensors::model::robot_gravity\"\n",
    "    # \n",
    "    CURRENT_POSITION_KEY = \"sai2::FrankaPanda::sensors::current_position\"\n",
    "    TARGET_POSITION_KEY = \"sai2::FrankaPanda::control::target_position\"\n",
    "    CALI_DONE_KEY = \"sai2::FrankaPanda::control::cali_done\""
   ]
  },
  {
   "cell_type": "code",
   "execution_count": 5,
   "metadata": {},
   "outputs": [],
   "source": [
    "# Conversion between Redis key-value format to numpy arrays\n",
    " \n",
    "def str_to_vec(s):\n",
    "    return np.array([float(x) for x in s[1:-1].split(',')])\n",
    "\n",
    "def key_to_vec(r, key_name):\n",
    "    return str_to_vec(r.get(key_name))\n",
    "\n",
    "def vec_to_str(v):\n",
    "    return '[' + ','.join(x for x in v) + ']'"
   ]
  },
  {
   "cell_type": "code",
   "execution_count": 172,
   "metadata": {},
   "outputs": [],
   "source": [
    "# Get raw depth and RGB image using libfreenect driver\n",
    "\n",
    "def get_depth():\n",
    "    \"\"\"\n",
    "    Get depth image in millimeters (valued 0-10000)\n",
    "    \"\"\"\n",
    "    value = freenect.sync_get_depth(format=freenect.DEPTH_REGISTERED)[0]\n",
    "    new_value = value.astype(dtype=np.float32)\n",
    "    return new_value\n",
    "\n",
    "def get_video():\n",
    "    \"\"\"\n",
    "    Get BGR frames (valued 0-255)\n",
    "    \"\"\"\n",
    "    return frame_convert2.video_cv(freenect.sync_get_video()[0])"
   ]
  },
  {
   "cell_type": "code",
   "execution_count": 192,
   "metadata": {},
   "outputs": [],
   "source": [
    "\n",
    "\n",
    "def get_pc(depth, image, depth_max=10.00, x_range=[-0.5, 0.5], fx=5.2921508098293293e+02, fy=5.2556393630057437e+02):\n",
    "    depth = depth / 1000.0\n",
    "    height, width = depth.shape[:2]\n",
    "    print(height, width)\n",
    "    \n",
    "    xx, yy = np.meshgrid(np.arange(width), np.arange(height))\n",
    "\n",
    "    xx = xx - ((width-1) / 2.)\n",
    "    yy = yy - ((height-1) / 2.)\n",
    "\n",
    "    x = xx / fx * depth\n",
    "    y = yy / fy * depth\n",
    "    z = depth\n",
    "\n",
    "    xyz_map = np.stack([x, y, z], axis=-1)\n",
    "\n",
    "    valid_mask = (depth > 1e-3) & \\\n",
    "                 (depth < depth_max) & \\\n",
    "                 (xyz_map[:, :, 0] < x_range[1]) & \\\n",
    "                 (xyz_map[:, :, 0] > x_range[0])\n",
    "    # plt.imshow(valid_mask * 1.0)\n",
    "    # plt.colorbar()\n",
    "    \n",
    "    xyz = xyz_map[valid_mask]\n",
    "    rgb = image[valid_mask]\n",
    "\n",
    "    xyz = xyz[:, np.array([0, 2, 1])]\n",
    "    xyz[:, 0] = -xyz[:, 0]\n",
    "    xyz = xyz.astype('float32')\n",
    "\n",
    "    return xyz, rgb"
   ]
  },
  {
   "cell_type": "code",
   "execution_count": 193,
   "metadata": {},
   "outputs": [
    {
     "name": "stdout",
     "output_type": "stream",
     "text": [
      "480 640\n"
     ]
    },
    {
     "data": {
      "text/plain": [
       "(array([[ 0.49804986,  2.649     , -1.0811443 ],\n",
       "        [ 0.49304432,  2.649     , -1.0811443 ],\n",
       "        [ 0.4880388 ,  2.649     , -1.0811443 ],\n",
       "        ...,\n",
       "        [ 0.27363262,  0.569     ,  0.09473158],\n",
       "        [ 0.2752983 ,  0.568     ,  0.09564584],\n",
       "        [ 0.2737422 ,  0.567     ,  0.09547744]], dtype=float32),\n",
       " array([[ 70,  82, 110],\n",
       "        [ 73,  83, 110],\n",
       "        [ 77,  83, 108],\n",
       "        ...,\n",
       "        [ 62,  95, 138],\n",
       "        [ 61,  97, 138],\n",
       "        [ 57,  97, 138]], dtype=uint8))"
      ]
     },
     "execution_count": 193,
     "metadata": {},
     "output_type": "execute_result"
    }
   ],
   "source": [
    "depth = get_depth()\n",
    "video = get_video()\n",
    "get_pc(depth, video)"
   ]
  },
  {
   "cell_type": "code",
   "execution_count": 1,
   "metadata": {},
   "outputs": [
    {
     "ename": "NameError",
     "evalue": "name 'np' is not defined",
     "output_type": "error",
     "traceback": [
      "\u001b[0;31m---------------------------------------------------------------------------\u001b[0m",
      "\u001b[0;31mNameError\u001b[0m                                 Traceback (most recent call last)",
      "\u001b[0;32m<ipython-input-1-337554e5fc62>\u001b[0m in \u001b[0;36m<module>\u001b[0;34m\u001b[0m\n\u001b[0;32m----> 1\u001b[0;31m \u001b[0mreference_color\u001b[0m \u001b[0;34m=\u001b[0m \u001b[0mnp\u001b[0m\u001b[0;34m.\u001b[0m\u001b[0marray\u001b[0m\u001b[0;34m(\u001b[0m\u001b[0;34m[\u001b[0m\u001b[0;36m122\u001b[0m\u001b[0;34m,\u001b[0m \u001b[0;36m120\u001b[0m\u001b[0;34m,\u001b[0m \u001b[0;36m35\u001b[0m\u001b[0;34m]\u001b[0m\u001b[0;34m)\u001b[0m \u001b[0;34m/\u001b[0m \u001b[0;36m255.\u001b[0m\u001b[0;34m\u001b[0m\u001b[0m\n\u001b[0m\u001b[1;32m      2\u001b[0m \u001b[0mhue\u001b[0m \u001b[0;34m=\u001b[0m \u001b[0mmatplotlib\u001b[0m\u001b[0;34m.\u001b[0m\u001b[0mcolors\u001b[0m\u001b[0;34m.\u001b[0m\u001b[0mrgb_to_hsv\u001b[0m\u001b[0;34m(\u001b[0m\u001b[0mreference_color\u001b[0m\u001b[0;34m)\u001b[0m\u001b[0;34m[\u001b[0m\u001b[0;36m0\u001b[0m\u001b[0;34m]\u001b[0m\u001b[0;34m\u001b[0m\u001b[0m\n\u001b[1;32m      3\u001b[0m \u001b[0;34m\u001b[0m\u001b[0m\n\u001b[1;32m      4\u001b[0m \u001b[0;32mdef\u001b[0m \u001b[0mseg_color\u001b[0m\u001b[0;34m(\u001b[0m\u001b[0mpc\u001b[0m\u001b[0;34m,\u001b[0m \u001b[0mrgb\u001b[0m\u001b[0;34m)\u001b[0m\u001b[0;34m:\u001b[0m\u001b[0;34m\u001b[0m\u001b[0m\n\u001b[1;32m      5\u001b[0m     \u001b[0mhsv\u001b[0m \u001b[0;34m=\u001b[0m \u001b[0mcv2\u001b[0m\u001b[0;34m.\u001b[0m\u001b[0mcvtColor\u001b[0m\u001b[0;34m(\u001b[0m\u001b[0mrgb\u001b[0m\u001b[0;34m,\u001b[0m \u001b[0mcv2\u001b[0m\u001b[0;34m.\u001b[0m\u001b[0mCOLOR_BGR2HSV\u001b[0m\u001b[0;34m)\u001b[0m\u001b[0;34m\u001b[0m\u001b[0m\n",
      "\u001b[0;31mNameError\u001b[0m: name 'np' is not defined"
     ]
    }
   ],
   "source": [
    "reference_color = np.array([122, 120, 35]) / 255.\n",
    "hue = matplotlib.colors.rgb_to_hsv(reference_color)[0]\n",
    "\n",
    "def seg_color(pc, rgb):\n",
    "    hsv = cv2.cvtColor(rgb, cv2.COLOR_BGR2HSV)\n",
    "    det_mask = (hsv[:, 0] < (hue + 10 / 360.)) & (hsv[:, 0] > (hue - 10 / 360.)) & (hsv[:, 2] > 0.3)\n",
    "    pc_det = pc[det_mask]\n",
    "    return pc_det\n",
    "\n",
    "def filter_outlier(pc):\n",
    "\n",
    "    cloud = pcl.PointCloud()\n",
    "    cloud_filtered = pcl.PointCloud()\n",
    "    cloud.from_array(pc)\n",
    "\n",
    "    kdtree = cloud.make_kdtree_flann()\n",
    "    [ind, sqdist] = kdtree.nearest_k_search_for_cloud(cloud, 15)    \n",
    "    valid_mask = sqdist.max(axis=-1) < 1e-2\n",
    "\n",
    "    pc_filtered = pc[valid_mask]\n",
    "\n",
    "    return pc_filtered"
   ]
  },
  {
   "cell_type": "code",
   "execution_count": 1,
   "metadata": {},
   "outputs": [],
   "source": [
    "def find_ball():\n",
    "    image = get_video()\n",
    "    depth = get_depth()\n",
    "    \n",
    "    xyz, rgb = get_pc(depth, image)\n",
    "    pc_det = seg_color(xyz, rgb)\n",
    "    pc_filtered = filter_outlier(pc_det)\n",
    "    return pc_filtered\n",
    "    \n",
    "    if len(pc_filtered) == 0:\n",
    "        raise Exception(\"ball not found\")\n",
    "    ball_center = np.mean(pc_filtered, axis=0)\n",
    "    return ball_center"
   ]
  },
  {
   "cell_type": "code",
   "execution_count": 264,
   "metadata": {},
   "outputs": [],
   "source": [
    "def move_robot(target_xyz, velocity_threshold=1e-1, timeout=5.0):\n",
    "    r.set(TARGET_POSITION_KEY, vec_to_str(target_xyz))\n",
    "    start_time = time.time()\n",
    "    \n",
    "    while np.norm(key_to_vec(JOINT_VELOCITIES_KEY)) < velocity_threshold:\n",
    "        curr_time = time.time()\n",
    "        if curr_time - start_time > timeout:\n",
    "            raise Exception(\"control timeout!\")\n",
    "\n",
    "    return key_to_vec(CURRENT_POSITION_KEY)"
   ]
  },
  {
   "cell_type": "code",
   "execution_count": 299,
   "metadata": {},
   "outputs": [
    {
     "name": "stdout",
     "output_type": "stream",
     "text": [
      "480 640\n",
      "[ 0.04980477  3.2026248  -0.6935786 ]\n"
     ]
    }
   ],
   "source": [
    "print(find_ball())"
   ]
  },
  {
   "cell_type": "code",
   "execution_count": 266,
   "metadata": {},
   "outputs": [
    {
     "data": {
      "text/plain": [
       "<matplotlib.colorbar.Colorbar at 0x7fdb907c9a58>"
      ]
     },
     "execution_count": 266,
     "metadata": {},
     "output_type": "execute_result"
    },
    {
     "data": {
      "image/png": "[encoded data removed]",
      "text/plain": [
       "<Figure size 432x288 with 2 Axes>"
      ]
     },
     "metadata": {
      "needs_background": "light"
     },
     "output_type": "display_data"
    }
   ],
   "source": [
    "plt.imshow(get_depth())\n",
    "plt.colorbar()"
   ]
  },
  {
   "cell_type": "code",
   "execution_count": 267,
   "metadata": {},
   "outputs": [],
   "source": [
    "target_coords = [[1, 2, 3], [4, 5, 6], [0, 0, 1], [1, 0, 2]]\n",
    "\n",
    "def get_coords(target_coords):\n",
    "    results_camera = []\n",
    "    results_robot  = []\n",
    "    for target_xyz in target_coords:\n",
    "        try:\n",
    "            r_robot = move_robot(target_xyz) # tune params! \n",
    "            r_camera = find_ball()\n",
    "            results_camera.append(r_camera)\n",
    "            results_robot.append(r_robot)\n",
    "        except Exception as e:\n",
    "            print(\"{} failed!\".format(target_xyz))\n",
    "            print(e)\n",
    "    return results_camera, results_robot"
   ]
  },
  {
   "cell_type": "code",
   "execution_count": 34,
   "metadata": {},
   "outputs": [],
   "source": [
    "def optimize_transformation(xyzs_camera, xyzs_robot):\n",
    "    def fn(xyz_camera, r0, r1, r2, t):\n",
    "        x, y, z = xyz_camera\n",
    "        return r0 * x + r1 * y + r2 * z + t\n",
    "    r1tx, r1cov = curve_fit(fn, xyzs_camera, xyzs_robot[:, 0])\n",
    "    r2ty, r2cov = curve_fit(fn, xyzs_camera, xyzs_robot[:, 1])\n",
    "    r3tz, r3cov = curve_fit(fn, xyzs_camera, xyzs_robot[:, 2])\n",
    "    T = np.array([r1tx, r2ty, r3tz, [0, 0, 0, 1]])\n",
    "    return T  "
   ]
  },
  {
   "cell_type": "code",
   "execution_count": null,
   "metadata": {},
   "outputs": [],
   "source": [
    "def find_xyzr(pc):\n",
    "    def func(x, x0, y0, z0, r):\n",
    "        return (x[0] - x0)**2 + (x[1] - y0)**2 + (x[2] - z0)**2 - r0**2\n",
    "    n = len(pc)\n",
    "    popt, pcov = curve_fit(func, pc, np.ones(n))\n",
    "    return popt"
   ]
  }
 ],
 "metadata": {
  "kernelspec": {
   "display_name": "Python 3",
   "language": "python",
   "name": "python3"
  },
  "language_info": {
   "codemirror_mode": {
    "name": "ipython",
    "version": 3
   },
   "file_extension": ".py",
   "mimetype": "text/x-python",
   "name": "python",
   "nbconvert_exporter": "python",
   "pygments_lexer": "ipython3",
   "version": "3.5.2"
  }
 },
 "nbformat": 4,
 "nbformat_minor": 2
}
